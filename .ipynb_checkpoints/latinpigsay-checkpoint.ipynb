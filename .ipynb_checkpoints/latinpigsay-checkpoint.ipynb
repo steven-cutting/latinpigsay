{
 "metadata": {
  "name": "",
  "signature": "sha256:dcf8913fefaf602c070e8748b0dc11f4cefb5166c719f2c6fa8ca7664acc5641"
 },
 "nbformat": 3,
 "nbformat_minor": 0,
 "worksheets": [
  {
   "cells": [
    {
     "cell_type": "code",
     "collapsed": false,
     "input": [
      "%load_ext autoreload\n",
      "%autoreload 2"
     ],
     "language": "python",
     "metadata": {},
     "outputs": [],
     "prompt_number": 1
    },
    {
     "cell_type": "markdown",
     "metadata": {},
     "source": [
      "# http://manybooks.net/"
     ]
    },
    {
     "cell_type": "code",
     "collapsed": false,
     "input": [
      "from data.text import samples as sam\n",
      "from latinpigsay import generalfunctions as gfunc\n",
      "from tmp.experiments import expfunctions as expfunc\n",
      "\n",
      "from latinpigsay import latinpig as lp\n",
      "from latinpigsay import piggyprint as pp\n",
      "from tmp.experiments import exp\n",
      "\n",
      "import piglatin as pl\n",
      "\n",
      "import requests\n",
      "from itertools import islice, permutations, count, izip, imap, product, chain\n",
      "import itertools\n",
      "import re\n",
      "\n",
      "import json\n",
      "from xml.dom import minidom\n",
      "\n",
      "import os\n",
      "from os import path\n",
      "import operator\n",
      "\n",
      "from multiprocessing import Pool"
     ],
     "language": "python",
     "metadata": {},
     "outputs": [],
     "prompt_number": 2
    },
    {
     "cell_type": "code",
     "collapsed": false,
     "input": [
      "import numpy\n",
      "from data.text import samples as sam\n",
      "\n",
      "from textblob import TextBlob as textb\n",
      "import nltk"
     ],
     "language": "python",
     "metadata": {},
     "outputs": [],
     "prompt_number": 3
    },
    {
     "cell_type": "code",
     "collapsed": false,
     "input": [
      "import time\n",
      "import arrow\n",
      "\n",
      "class Timer:\n",
      "    def __init__(self):\n",
      "        self.interval = 0\n",
      "    def __enter__(self):\n",
      "        self.start = arrow.now()\n",
      "        return self\n",
      "\n",
      "    def __exit__(self, *args):\n",
      "        self.end = arrow.now()\n",
      "        self.interval = self.end - self.start"
     ],
     "language": "python",
     "metadata": {},
     "outputs": [],
     "prompt_number": 4
    },
    {
     "cell_type": "code",
     "collapsed": false,
     "input": [],
     "language": "python",
     "metadata": {},
     "outputs": [],
     "prompt_number": 4
    },
    {
     "cell_type": "markdown",
     "metadata": {},
     "source": [
      "-----\n",
      "# NLTK and TextBlob Stuff"
     ]
    },
    {
     "cell_type": "code",
     "collapsed": false,
     "input": [
      "print sam.acidtest"
     ],
     "language": "python",
     "metadata": {},
     "outputs": [
      {
       "output_type": "stream",
       "stream": "stdout",
       "text": [
        "Can you talk piglatin to piglatin.\n",
        "\n"
       ]
      }
     ],
     "prompt_number": 5
    },
    {
     "cell_type": "code",
     "collapsed": false,
     "input": [],
     "language": "python",
     "metadata": {},
     "outputs": [],
     "prompt_number": 5
    },
    {
     "cell_type": "code",
     "collapsed": false,
     "input": [
      "text = sam.paragraphs_og"
     ],
     "language": "python",
     "metadata": {},
     "outputs": [],
     "prompt_number": 6
    },
    {
     "cell_type": "code",
     "collapsed": false,
     "input": [
      "tokens = nltk.word_tokenize(text)"
     ],
     "language": "python",
     "metadata": {},
     "outputs": [],
     "prompt_number": 7
    },
    {
     "cell_type": "code",
     "collapsed": false,
     "input": [
      "#print tokens"
     ],
     "language": "python",
     "metadata": {},
     "outputs": [],
     "prompt_number": 8
    },
    {
     "cell_type": "code",
     "collapsed": false,
     "input": [
      "#print ' '.join(tokens)"
     ],
     "language": "python",
     "metadata": {},
     "outputs": [],
     "prompt_number": 9
    },
    {
     "cell_type": "code",
     "collapsed": false,
     "input": [
      "sentences = nltk.data.load('grammars/large_grammars/atis_sentences.txt')\n",
      "sentences = nltk.parse.util.extract_test_sentences(sentences)"
     ],
     "language": "python",
     "metadata": {},
     "outputs": [],
     "prompt_number": 10
    },
    {
     "cell_type": "code",
     "collapsed": false,
     "input": [
      "len(sentences)"
     ],
     "language": "python",
     "metadata": {},
     "outputs": [
      {
       "metadata": {},
       "output_type": "pyout",
       "prompt_number": 11,
       "text": [
        "98"
       ]
      }
     ],
     "prompt_number": 11
    },
    {
     "cell_type": "code",
     "collapsed": false,
     "input": [
      "print sentences[12]"
     ],
     "language": "python",
     "metadata": {},
     "outputs": [
      {
       "output_type": "stream",
       "stream": "stdout",
       "text": [
        "([u'show', u'me', u'flights', u'from', u'detroit', u'to', u'san', u'diego', u'on', u'tuesday', u'may', u'third', u'.'], 0)\n"
       ]
      }
     ],
     "prompt_number": 12
    },
    {
     "cell_type": "markdown",
     "metadata": {},
     "source": [
      "----\n",
      "# Regex Stuff"
     ]
    },
    {
     "cell_type": "code",
     "collapsed": false,
     "input": [
      "files = {1 : {'file1' : 'data/text/phrases_english.txt',\n",
      "              'file2' : 'data/text/phrases_piglatin.txt',\n",
      "             },\n",
      "         2 : {'file1' : 'data/text/contractions.txt',\n",
      "              'file2' : 'data/text/contractions-un.txt'\n",
      "             },\n",
      "         3 : {'file1' : 'data/contractions.txt',\n",
      "             },\n",
      "        }\n",
      "print files[1]['file1']"
     ],
     "language": "python",
     "metadata": {},
     "outputs": [
      {
       "output_type": "stream",
       "stream": "stdout",
       "text": [
        "data/text/phrases_english.txt\n"
       ]
      }
     ],
     "prompt_number": 13
    },
    {
     "cell_type": "code",
     "collapsed": false,
     "input": [
      "class regexpreplacer(object):\n",
      "    def __init__(self, patterns):\n",
      "        #self.patternlist = patterns\n",
      "        self.patterns = [(re.compile(regex), repl) for (regex, repl) in\n",
      "                         patterns]\n",
      "    def replace(self, text):\n",
      "        s = text\n",
      "        for (pattern, repl) in self.patterns:\n",
      "            (s, count) = re.subn(pattern, repl, s)\n",
      "        return s\n",
      "    #def replace2(self, text):\n",
      "    #    s = text\n",
      "    #    for (pattern, repl) in self.patternlist:\n",
      "    #        (s, count) = re.subn(pattern, repl, s, flags=re.IGNORECASE)\n",
      "    #    return s\n"
     ],
     "language": "python",
     "metadata": {},
     "outputs": [],
     "prompt_number": 14
    },
    {
     "cell_type": "code",
     "collapsed": false,
     "input": [
      "contractions = [(r\"won't\", \"will not\"),\n",
      "                (r\"can't\", \"cannot\"),\n",
      "                (r\"i'm\", \"i am\"),\n",
      "                (r\"I'm\", \"I am\"),\n",
      "                (r\"ma'am\", \"madam\"),\n",
      "                (r\"ain't\", \"is not\"),\n",
      "                (r\"let's\", \"let us\"),\n",
      "                (r\"Let's\", \"Let us\"),\n",
      "                (r\"shan't\", \"shall not\"),\n",
      "                (r\"where'd\", \"where did\"),\n",
      "                (r\"y'all\", \"you all\"),\n",
      "                (r\"o'clock\", \"of the clock\"), # A \"Hackish way to to get oway ' ockclay\n",
      "                (r\"(\\w+)'ll\", \"\\g<1> will\"),\n",
      "                (r\"(\\w+)n't\", \"\\g<1> not\"),\n",
      "                (r\"(\\w+)'ve\", \"\\g<1> have\"),\n",
      "                (r\"(\\w+)'s\", \"\\g<1> is\"),\n",
      "                (r\"(\\w+)'re\", \"\\g<1> are\"),\n",
      "                (r\"(\\w+)'d\", \"\\g<1> would\"),\n",
      "                ]\n",
      "expander = regexpreplacer(contractions)"
     ],
     "language": "python",
     "metadata": {},
     "outputs": [],
     "prompt_number": 15
    },
    {
     "cell_type": "code",
     "collapsed": false,
     "input": [
      "with open(files[2]['file1']) as f:\n",
      "    conts = f.read()\n",
      "with open(files[2]['file2']) as f:\n",
      "    notconts = f.read()"
     ],
     "language": "python",
     "metadata": {},
     "outputs": [],
     "prompt_number": 16
    },
    {
     "cell_type": "code",
     "collapsed": false,
     "input": [
      "contslist = conts.splitlines()\n",
      "fixedcontslist = expander.replace(conts).splitlines()\n",
      "notcontslist = notconts.splitlines()"
     ],
     "language": "python",
     "metadata": {},
     "outputs": [],
     "prompt_number": 17
    },
    {
     "cell_type": "code",
     "collapsed": false,
     "input": [
      "padding = 20\n",
      "n = 0\n",
      "for cont, fcont, ncont in izip(contslist, fixedcontslist, notcontslist):\n",
      "    print n, cont.ljust(padding), fcont.ljust(padding), ncont\n",
      "    n += 1"
     ],
     "language": "python",
     "metadata": {},
     "outputs": [
      {
       "output_type": "stream",
       "stream": "stdout",
       "text": [
        "0 can't                cannot               cannot\n",
        "1 could've             could have           could have\n",
        "2 couldn't             could not            could not\n",
        "3 couldn't've          could not have       could not have\n",
        "4 didn't               did not              did not\n",
        "5 doesn't              does not             does not\n",
        "6 don't                do not               do not\n",
        "7 hadn't               had not              had not\n",
        "8 hadn't've            had not have         had not have\n",
        "9 hasn't               has not              has not\n",
        "10 haven't              have not             have not\n",
        "11 he'd                 he would             he had / he would\n",
        "12 he'd've              he would have        he would have\n",
        "13 he'll                he will              he shall / he will\n",
        "14 he's                 he is                he has / he is\n",
        "15 how'd                how would            how did / how would\n",
        "16 how'll               how will             how will\n",
        "17 how's                how is               how has / how is / how does\n",
        "18 I'd                  I would              I had / I would\n",
        "19 I'd've               I would have         I would have\n",
        "20 I'll                 I will               I shall / I will\n",
        "21 I'm                  I am                 I am\n",
        "22 I've                 I have               I have\n",
        "23 isn't                is not               is not\n",
        "24 it'd                 it would             it had / it would\n",
        "25 it'd've              it would have        it would have\n",
        "26 it'll                it will              it shall / it will\n",
        "27 it's                 it is                it has / it is\n",
        "28 let's                let us               let us\n",
        "29 ma'am                madam                madam\n",
        "30 mightn't             might not            might not\n",
        "31 mightn't've          might not have       might not have\n",
        "32 might've             might have           might have\n",
        "33 mustn't              must not             must not\n",
        "34 must've              must have            must have\n",
        "35 needn't              need not             need not\n",
        "36 not've               not have             not have\n",
        "37 o'clock              of the clock         of the clock\n",
        "38 shan't               shall not            shall not\n",
        "39 she'd                she would            she had / she would\n",
        "40 she'd've             she would have       she would have\n",
        "41 she'll               she will             she shall / she will\n",
        "42 she's                she is               she has / she is\n",
        "43 should've            should have          should have\n",
        "44 shouldn't            should not           should not\n",
        "45 shouldn't've         should not have      should not have\n",
        "46 that'll              that will            that will\n",
        "47 that's               that is              that has / that is\n",
        "48 there'd              there would          there had / there would\n",
        "49 there'd've           there would have     there would have\n",
        "50 there're             there are            there are\n",
        "51 there's              there is             there has / there is\n",
        "52 they'd               they would           they had / they would\n",
        "53 they'd've            they would have      they would have\n",
        "54 they'll              they will            they shall / they will\n",
        "55 they're              they are             they are\n",
        "56 they've              they have            they have\n",
        "57 wasn't               was not              was not\n",
        "58 we'd                 we would             we had / we would\n",
        "59 we'd've              we would have        we would have\n",
        "60 we'll                we will              we will\n",
        "61 we're                we are               we are\n",
        "62 we've                we have              we have\n",
        "63 weren't              were not             were not\n",
        "64 what'll              what will            what shall / what will\n",
        "65 what're              what are             what are\n",
        "66 what's               what is              what has / what is / what does\n",
        "67 what've              what have            what have\n",
        "68 when's               when is              when has / when is\n",
        "69 where'd              where did            where did\n",
        "70 where's              where is             where has / where is\n",
        "71 where've             where have           where have\n",
        "72 who'd                who would            who would / who had\n",
        "73 who'll               who will             who shall / who will\n",
        "74 who're               who are              who are\n",
        "75 who's                who is               who has / who is\n",
        "76 who've               who have             who have\n",
        "77 why'll               why will             why will\n",
        "78 why're               why are              why are\n",
        "79 why's                why is               why has / why is\n",
        "80 won't                will not             will not\n",
        "81 would've             would have           would have\n",
        "82 wouldn't             would not            would not\n",
        "83 wouldn't've          would not have       would not have\n",
        "84 y'all                you all              you all\n",
        "85 y'all'd've           you all would have   you all should have / you all could have / you all would have\n",
        "86 you'd                you would            you had / you would\n",
        "87 you'd've             you would have       you would have\n",
        "88 you'll               you will             you shall / you will\n",
        "89 you're               you are              you are\n",
        "90 you've               you have             you have\n"
       ]
      }
     ],
     "prompt_number": 18
    },
    {
     "cell_type": "code",
     "collapsed": false,
     "input": [
      "padding = 20\n",
      "n = 0\n",
      "for cont, fcont, ncont in izip(contslist, fixedcontslist, notcontslist):\n",
      "    print cont + '\\t' + fcont\n",
      "    n += 1"
     ],
     "language": "python",
     "metadata": {},
     "outputs": [
      {
       "output_type": "stream",
       "stream": "stdout",
       "text": [
        "can't\tcannot\n",
        "could've\tcould have\n",
        "couldn't\tcould not\n",
        "couldn't've\tcould not have\n",
        "didn't\tdid not\n",
        "doesn't\tdoes not\n",
        "don't\tdo not\n",
        "hadn't\thad not\n",
        "hadn't've\thad not have\n",
        "hasn't\thas not\n",
        "haven't\thave not\n",
        "he'd\the would\n",
        "he'd've\the would have\n",
        "he'll\the will\n",
        "he's\the is\n",
        "how'd\thow would\n",
        "how'll\thow will\n",
        "how's\thow is\n",
        "I'd\tI would\n",
        "I'd've\tI would have\n",
        "I'll\tI will\n",
        "I'm\tI am\n",
        "I've\tI have\n",
        "isn't\tis not\n",
        "it'd\tit would\n",
        "it'd've\tit would have\n",
        "it'll\tit will\n",
        "it's\tit is\n",
        "let's\tlet us\n",
        "ma'am\tmadam\n",
        "mightn't\tmight not\n",
        "mightn't've\tmight not have\n",
        "might've\tmight have\n",
        "mustn't\tmust not\n",
        "must've\tmust have\n",
        "needn't\tneed not\n",
        "not've\tnot have\n",
        "o'clock\tof the clock\n",
        "shan't\tshall not\n",
        "she'd\tshe would\n",
        "she'd've\tshe would have\n",
        "she'll\tshe will\n",
        "she's\tshe is\n",
        "should've\tshould have\n",
        "shouldn't\tshould not\n",
        "shouldn't've\tshould not have\n",
        "that'll\tthat will\n",
        "that's\tthat is\n",
        "there'd\tthere would\n",
        "there'd've\tthere would have\n",
        "there're\tthere are\n",
        "there's\tthere is\n",
        "they'd\tthey would\n",
        "they'd've\tthey would have\n",
        "they'll\tthey will\n",
        "they're\tthey are\n",
        "they've\tthey have\n",
        "wasn't\twas not\n",
        "we'd\twe would\n",
        "we'd've\twe would have\n",
        "we'll\twe will\n",
        "we're\twe are\n",
        "we've\twe have\n",
        "weren't\twere not\n",
        "what'll\twhat will\n",
        "what're\twhat are\n",
        "what's\twhat is\n",
        "what've\twhat have\n",
        "when's\twhen is\n",
        "where'd\twhere did\n",
        "where's\twhere is\n",
        "where've\twhere have\n",
        "who'd\twho would\n",
        "who'll\twho will\n",
        "who're\twho are\n",
        "who's\twho is\n",
        "who've\twho have\n",
        "why'll\twhy will\n",
        "why're\twhy are\n",
        "why's\twhy is\n",
        "won't\twill not\n",
        "would've\twould have\n",
        "wouldn't\twould not\n",
        "wouldn't've\twould not have\n",
        "y'all\tyou all\n",
        "y'all'd've\tyou all would have\n",
        "you'd\tyou would\n",
        "you'd've\tyou would have\n",
        "you'll\tyou will\n",
        "you're\tyou are\n",
        "you've\tyou have\n"
       ]
      }
     ],
     "prompt_number": 19
    },
    {
     "cell_type": "code",
     "collapsed": false,
     "input": [
      "def testexpander():\n",
      "    padding = 20\n",
      "    n = 0\n",
      "    for cont, fcont, ncont in izip(contslist, fixedcontslist, notcontslist):\n",
      "\n",
      "        if not(fcont in ncont):\n",
      "            print n, cont.ljust(padding), fcont.ljust(padding), ncont\n",
      "        n += 1\n",
      "\n",
      "testexpander()"
     ],
     "language": "python",
     "metadata": {},
     "outputs": [],
     "prompt_number": 20
    },
    {
     "cell_type": "code",
     "collapsed": false,
     "input": [
      "padding = 20\n",
      "n = 0\n",
      "print \n",
      "for cont, fcont, ncont in izip(contslist, fixedcontslist, notcontslist):\n",
      "    print n, exp.translator(fcont).returnstr.ljust(padding), exp.translator(cont).returnstr.ljust(padding), lp.translator(cont).returnstr.ljust(padding), pl.translate(cont).ljust(padding), ncont\n",
      "    n += 1\n"
     ],
     "language": "python",
     "metadata": {},
     "outputs": [
      {
       "output_type": "stream",
       "stream": "stdout",
       "text": [
        "\n",
        "0 annotcay             annotcay             annotcay             an't-cay             cannot\n",
        "1 ouldcay avehay       ouldcay avehay       ouldcayavehay        ould've-cay          could have\n",
        "2 ouldcay otnay        ouldcay otnay        ouldcayotnay         ouldn't-cay          could not\n",
        "3 ouldcay otnay avehay ouldcay otnay avehay ouldcayotnayavehay   ouldn't've-cay       could not have\n",
        "4 idday otnay          idday otnay          iddayotnay           idn't-day            did not\n",
        "5 oesday otnay         oesday otnay         oesdayotnay          oesn't-day           does not\n",
        "6 oday otnay           oday otnay           odayotnay            on't-day             do not\n",
        "7 adhay otnay          adhay otnay          adhayotnay           adn't-hay            had not\n",
        "8 adhay otnay avehay   adhay otnay avehay   adhayotnayavehay     adn't've-hay         had not have\n",
        "9 ashay otnay          ashay otnay          ashayotnay           asn't-hay            has not\n",
        "10 avehay otnay         avehay otnay         avehayotnay          aven't-hay           have not\n",
        "11 ehay ouldway         ehay ouldway         ehayouldway          e'd-hay              he had / he would\n",
        "12 ehay ouldway avehay  ehay ouldway avehay  ehayouldwayavehay    e'd've-hay           he would have\n",
        "13 ehay illway          ehay illway          ehayillway           e'll-hay             he shall / he will\n",
        "14 ehay isway           ehay isway           ehayisway            e's-hay              he has / he is\n",
        "15 owhay ouldway        owhay ouldway        owhayouldway         ow'd-hay             how did / how would\n",
        "16 owhay illway         owhay illway         owhayillway          ow'll-hay            how will\n",
        "17 owhay isway          owhay isway          owhayisway           ow's-hay             how has / how is / how does\n",
        "18 Iway ouldway         I'dway               Iwayouldway          I'd-ay               I had / I would\n",
        "19 Iway ouldway avehay  I'd'veway            Iwayouldwayavehay    I'd've-ay            I would have\n",
        "20 Iway illway          I'llway              Iwayillway           I'll-ay              I shall / I will\n",
        "21 Iway amway           I'mway               Iwayamway            I'm-ay               I am\n",
        "22 Iway avehay          I'veway              Iwayavehay           I've-ay              I have\n",
        "23 isway otnay          isway otnay          iswayotnay           isn't-ay             is not\n",
        "24 itway ouldway        itway ouldway        itwayouldway         it'd-ay              it had / it would\n",
        "25 itway ouldway avehay itway ouldway avehay itwayouldwayavehay   it'd've-ay           it would have\n",
        "26 itway illway         itway illway         itwayillway          it'll-ay             it shall / it will\n",
        "27 itway isway          itway isway          itwayisway           it's-ay              it has / it is\n",
        "28 etlay usway          etlay usway          etlayisway           et's-lay             let us\n",
        "29 adammay              adammay              adammay              a'am-may             madam\n",
        "30 ightmay otnay        ightmay otnay        ightmayotnay         ightn't-may          might not\n",
        "31 ightmay otnay avehay ightmay otnay avehay ightmayotnayavehay   ightn't've-may       might not have\n",
        "32 ightmay avehay       ightmay avehay       ightmayavehay        ight've-may          might have\n",
        "33 ustmay otnay         ustmay otnay         ustmayotnay          ustn't-may           must not\n",
        "34 ustmay avehay        ustmay avehay        ustmayavehay         ust've-may           must have\n",
        "35 eednay otnay         eednay otnay         eednayotnay          eedn't-nay           need not\n",
        "36 otnay avehay         otnay avehay         otnayavehay          ot've-nay            not have\n",
        "37 ofway ethay ockclay  ofway ethay ockclay  o'clockway           o'clock-ay           of the clock\n",
        "38 allshay otnay        allshay otnay        ashayotnay           an't-shay            shall not\n",
        "39 eshay ouldway        eshay ouldway        eshayouldway         e'd-shay             she had / she would\n",
        "40 eshay ouldway avehay eshay ouldway avehay eshayouldwayavehay   e'd've-shay          she would have\n",
        "41 eshay illway         eshay illway         eshayillway          e'll-shay            she shall / she will\n",
        "42 eshay isway          eshay isway          eshayisway           e's-shay             she has / she is\n",
        "43 ouldshay avehay      ouldshay avehay      ouldshayavehay       ould've-shay         should have\n",
        "44 ouldshay otnay       ouldshay otnay       ouldshayotnay        ouldn't-shay         should not\n",
        "45 ouldshay otnay avehay ouldshay otnay avehay ouldshayotnayavehay  ouldn't've-shay      should not have\n",
        "46 atthay illway        atthay illway        atthayillway         at'll-thay           that will\n",
        "47 atthay isway         atthay isway         atthayisway          at's-thay            that has / that is\n",
        "48 erethay ouldway      erethay ouldway      erethayouldway       ere'd-thay           there had / there would\n",
        "49 erethay ouldway avehay erethay ouldway avehay erethayouldwayavehay ere'd've-thay        there would have\n",
        "50 erethay areway       erethay areway       erethayareway        ere're-thay          there are\n",
        "51 erethay isway        erethay isway        erethayisway         ere's-thay           there has / there is\n",
        "52 eythay ouldway       eythay ouldway       eythayouldway        ey'd-thay            they had / they would\n",
        "53 eythay ouldway avehay eythay ouldway avehay eythayouldwayavehay  ey'd've-thay         they would have\n",
        "54 eythay illway        eythay illway        eythayillway         ey'll-thay           they shall / they will\n",
        "55 eythay areway        eythay areway        eythayareway         ey're-thay           they are\n",
        "56 eythay avehay        eythay avehay        eythayavehay         ey've-thay           they have\n",
        "57 asway otnay          asway otnay          aswayotnay           asn't-way            was not\n",
        "58 eway ouldway         eway ouldway         "
       ]
      },
      {
       "output_type": "stream",
       "stream": "stdout",
       "text": [
        "ewayouldway          e'd-way              we had / we would\n",
        "59 eway ouldway avehay  eway ouldway avehay  ewayouldwayavehay    e'd've-way           we would have\n",
        "60 eway illway          eway illway          ewayillway           e'll-way             we will\n",
        "61 eway areway          eway areway          ewayareway           e're-way             we are\n",
        "62 eway avehay          eway avehay          ewayavehay           e've-way             we have\n",
        "63 ereway otnay         ereway otnay         erewayotnay          eren't-way           were not\n",
        "64 atwhay illway        atwhay illway        atwhayillway         at'll-whay           what shall / what will\n",
        "65 atwhay areway        atwhay areway        atwhayareway         at're-whay           what are\n",
        "66 atwhay isway         atwhay isway         atwhayisway          at's-whay            what has / what is / what does\n",
        "67 atwhay avehay        atwhay avehay        atwhayavehay         at've-whay           what have\n",
        "68 enwhay isway         enwhay isway         enwhayisway          en's-whay            when has / when is\n",
        "69 erewhay idday        erewhay idday        erewhayouldway       ere'd-whay           where did\n",
        "70 erewhay isway        erewhay isway        erewhayisway         ere's-whay           where has / where is\n",
        "71 erewhay avehay       erewhay avehay       erewhayavehay        ere've-whay          where have\n",
        "72 owhay ouldway        owhay ouldway        owhayouldway         o'd-whay             who would / who had\n",
        "73 owhay illway         owhay illway         owhayillway          o'll-whay            who shall / who will\n",
        "74 owhay areway         owhay areway         owhayareway          o're-whay            who are\n",
        "75 owhay isway          owhay isway          owhayisway           o's-whay             who has / who is\n",
        "76 owhay avehay         owhay avehay         owhayavehay          o've-whay            who have\n",
        "77 ywhay illway         ywhay illway         ywhayillway          y'll-whay            why will\n",
        "78 ywhay areway         ywhay areway         ywhayareway          y're-whay            why are\n",
        "79 ywhay isway          ywhay isway          ywhayisway           y's-whay             why has / why is\n",
        "80 illway otnay         illway otnay         illwayotnay          on't-way             will not\n",
        "81 ouldway avehay       ouldway avehay       ouldwayavehay        ould've-way          would have\n",
        "82 ouldway otnay        ouldway otnay        ouldwayotnay         ouldn't-way          would not\n",
        "83 ouldway otnay avehay ouldway otnay avehay ouldwayotnayavehay   ouldn't've-way       would not have\n",
        "84 ouyay allway         ouyay allway         ally'ay              all-y'ay             you all\n",
        "85 ouyay allway ouldway avehay ouyay allway ouldway avehay ally'ayouldwayavehay all'd've-y'ay        you all should have / you all could have / you all would have\n",
        "86 ouyay ouldway        ouyay ouldway        ouyayouldway         ou'd-yay             you had / you would\n",
        "87 ouyay ouldway avehay ouyay ouldway avehay ouyayouldwayavehay   ou'd've-yay          you would have\n",
        "88 ouyay illway         ouyay illway         ouyayillway          ou'll-yay            you shall / you will\n",
        "89 ouyay areway         ouyay areway         ouyayareway          ou're-yay            you are\n",
        "90 ouyay avehay         ouyay avehay         ouyayavehay          ou've-yay            you have\n"
       ]
      }
     ],
     "prompt_number": 21
    },
    {
     "cell_type": "code",
     "collapsed": false,
     "input": [
      "def testexpander():\n",
      "    padding = 20\n",
      "    n = 0\n",
      "    for cont, fcont, ncont in izip(contslist, fixedcontslist, notcontslist):\n",
      "        prefixed = exp.translator(fcont).returnstr\n",
      "        testing = exp.translator(cont).returnstr\n",
      "        if testing != prefixed:\n",
      "            print n, prefixed, testing\n",
      "        n += 1\n",
      "\n",
      "testexpander()"
     ],
     "language": "python",
     "metadata": {},
     "outputs": [
      {
       "output_type": "stream",
       "stream": "stdout",
       "text": [
        "18 Iway ouldway I'dway\n",
        "19 Iway ouldway avehay I'd'veway\n",
        "20 Iway illway I'llway\n",
        "21 Iway amway I'mway\n",
        "22 Iway avehay I'veway\n"
       ]
      }
     ],
     "prompt_number": 22
    },
    {
     "cell_type": "code",
     "collapsed": false,
     "input": [
      "n = 0\n",
      "for word in contslist:\n",
      "    m = re.match(r\"[n]'[\\w]+|[\\w]+(?!')(?:[A-Za-mo-z](?='))?|(?<=\\s)[\\w](?=')|[^\\s\\w']\", word)\n",
      "    if m is None:\n",
      "        print n, word\n",
      "    n += 1"
     ],
     "language": "python",
     "metadata": {},
     "outputs": [
      {
       "output_type": "stream",
       "stream": "stdout",
       "text": [
        "18 I'd\n",
        "19 I'd've\n",
        "20 I'll\n",
        "21 I'm\n",
        "22 I've\n",
        "37 o'clock\n",
        "84 y'all\n",
        "85 y'all'd've\n"
       ]
      }
     ],
     "prompt_number": 23
    },
    {
     "cell_type": "code",
     "collapsed": false,
     "input": [
      "n = 0\n",
      "for word in contslist:\n",
      "    m = re.match(r\"[n]'[\\w]+|[\\w]+(?!')(?:[A-Za-mo-z](?='))?|(?<=\\s)[\\w](?=')|[^\\s\\w']\", word)\n",
      "    if m is not None:\n",
      "        print n, word\n",
      "    n += 1"
     ],
     "language": "python",
     "metadata": {},
     "outputs": [
      {
       "output_type": "stream",
       "stream": "stdout",
       "text": [
        "0 can't\n",
        "1 could've\n",
        "2 couldn't\n",
        "3 couldn't've\n",
        "4 didn't\n",
        "5 doesn't\n",
        "6 don't\n",
        "7 hadn't\n",
        "8 hadn't've\n",
        "9 hasn't\n",
        "10 haven't\n",
        "11 he'd\n",
        "12 he'd've\n",
        "13 he'll\n",
        "14 he's\n",
        "15 how'd\n",
        "16 how'll\n",
        "17 how's\n",
        "23 isn't\n",
        "24 it'd\n",
        "25 it'd've\n",
        "26 it'll\n",
        "27 it's\n",
        "28 let's\n",
        "29 ma'am\n",
        "30 mightn't\n",
        "31 mightn't've\n",
        "32 might've\n",
        "33 mustn't\n",
        "34 must've\n",
        "35 needn't\n",
        "36 not've\n",
        "38 shan't\n",
        "39 she'd\n",
        "40 she'd've\n",
        "41 she'll\n",
        "42 she's\n",
        "43 should've\n",
        "44 shouldn't\n",
        "45 shouldn't've\n",
        "46 that'll\n",
        "47 that's\n",
        "48 there'd\n",
        "49 there'd've\n",
        "50 there're\n",
        "51 there's\n",
        "52 they'd\n",
        "53 they'd've\n",
        "54 they'll\n",
        "55 they're\n",
        "56 they've\n",
        "57 wasn't\n",
        "58 we'd\n",
        "59 we'd've\n",
        "60 we'll\n",
        "61 we're\n",
        "62 we've\n",
        "63 weren't\n",
        "64 what'll\n",
        "65 what're\n",
        "66 what's\n",
        "67 what've\n",
        "68 when's\n",
        "69 where'd\n",
        "70 where's\n",
        "71 where've\n",
        "72 who'd\n",
        "73 who'll\n",
        "74 who're\n",
        "75 who's\n",
        "76 who've\n",
        "77 why'll\n",
        "78 why're\n",
        "79 why's\n",
        "80 won't\n",
        "81 would've\n",
        "82 wouldn't\n",
        "83 wouldn't've\n",
        "86 you'd\n",
        "87 you'd've\n",
        "88 you'll\n",
        "89 you're\n",
        "90 you've\n"
       ]
      }
     ],
     "prompt_number": 24
    },
    {
     "cell_type": "code",
     "collapsed": false,
     "input": [],
     "language": "python",
     "metadata": {},
     "outputs": [],
     "prompt_number": 24
    },
    {
     "cell_type": "markdown",
     "metadata": {},
     "source": [
      "-----------\n",
      "# Optimizing Contraction Database "
     ]
    },
    {
     "cell_type": "code",
     "collapsed": false,
     "input": [
      "def fileline_gen(file_):\n",
      "    with open(file_) as f:\n",
      "        for line in f.read().splitlines():\n",
      "            yield line\n",
      "\n",
      "def fileline(file_):\n",
      "    with open(file_) as f:\n",
      "        return f.read().splitlines()\n",
      "\n",
      "def fileword_gen(file_):\n",
      "    with open(file_) as f:\n",
      "        for word in re.findall(r'(?:\\S+)|(?:\\s+)', f.read()):\n",
      "            yield word\n",
      "\n",
      "def urlword_gen(url):\n",
      "    f = requests.get(url, stream=True)\n",
      "    for line in f.iter_lines(delimiter='\\n'):\n",
      "        #yield json.loads(line)\n",
      "        yield line\n",
      "    \n",
      "    "
     ],
     "language": "python",
     "metadata": {},
     "outputs": [],
     "prompt_number": 25
    },
    {
     "cell_type": "code",
     "collapsed": false,
     "input": [
      "contdatabase = [tuple([line[0], ' '.join(line[1:])])\n",
      "                for line in (line.split()\n",
      "                             for line in fileline(files[3]['file1'])\n",
      "                             )\n",
      "                ]\n",
      "justconts = [cont[0] for cont in contdatabase]"
     ],
     "language": "python",
     "metadata": {},
     "outputs": [],
     "prompt_number": 26
    },
    {
     "cell_type": "code",
     "collapsed": false,
     "input": [
      "padding = 20\n",
      "n = 0\n",
      "for cont, clean, db in izip(contslist, cleanlist, contdatabase):\n",
      "    db1 = db[0]\n",
      "    db2 = db[1]\n",
      "    columns = ' '.join([str(n).rjust(2),\n",
      "                        cont.ljust(13, \".\"),\n",
      "                        clean.ljust(13, \".\"),\n",
      "                        db1.ljust(13, \".\"),\n",
      "                        db2.ljust(13, \" \"),\n",
      "                       ])\n",
      "    print columns\n",
      "    n += 1"
     ],
     "language": "python",
     "metadata": {},
     "outputs": [
      {
       "ename": "NameError",
       "evalue": "name 'cleanlist' is not defined",
       "output_type": "pyerr",
       "traceback": [
        "\u001b[1;31m---------------------------------------------------------------------------\u001b[0m\n\u001b[1;31mNameError\u001b[0m                                 Traceback (most recent call last)",
        "\u001b[1;32m<ipython-input-27-b7caefce5249>\u001b[0m in \u001b[0;36m<module>\u001b[1;34m()\u001b[0m\n\u001b[0;32m      1\u001b[0m \u001b[0mpadding\u001b[0m \u001b[1;33m=\u001b[0m \u001b[1;36m20\u001b[0m\u001b[1;33m\u001b[0m\u001b[0m\n\u001b[0;32m      2\u001b[0m \u001b[0mn\u001b[0m \u001b[1;33m=\u001b[0m \u001b[1;36m0\u001b[0m\u001b[1;33m\u001b[0m\u001b[0m\n\u001b[1;32m----> 3\u001b[1;33m \u001b[1;32mfor\u001b[0m \u001b[0mcont\u001b[0m\u001b[1;33m,\u001b[0m \u001b[0mclean\u001b[0m\u001b[1;33m,\u001b[0m \u001b[0mdb\u001b[0m \u001b[1;32min\u001b[0m \u001b[0mizip\u001b[0m\u001b[1;33m(\u001b[0m\u001b[0mcontslist\u001b[0m\u001b[1;33m,\u001b[0m \u001b[0mcleanlist\u001b[0m\u001b[1;33m,\u001b[0m \u001b[0mcontdatabase\u001b[0m\u001b[1;33m)\u001b[0m\u001b[1;33m:\u001b[0m\u001b[1;33m\u001b[0m\u001b[0m\n\u001b[0m\u001b[0;32m      4\u001b[0m     \u001b[0mdb1\u001b[0m \u001b[1;33m=\u001b[0m \u001b[0mdb\u001b[0m\u001b[1;33m[\u001b[0m\u001b[1;36m0\u001b[0m\u001b[1;33m]\u001b[0m\u001b[1;33m\u001b[0m\u001b[0m\n\u001b[0;32m      5\u001b[0m     \u001b[0mdb2\u001b[0m \u001b[1;33m=\u001b[0m \u001b[0mdb\u001b[0m\u001b[1;33m[\u001b[0m\u001b[1;36m1\u001b[0m\u001b[1;33m]\u001b[0m\u001b[1;33m\u001b[0m\u001b[0m\n",
        "\u001b[1;31mNameError\u001b[0m: name 'cleanlist' is not defined"
       ]
      }
     ],
     "prompt_number": 27
    },
    {
     "cell_type": "code",
     "collapsed": false,
     "input": [
      "def countfreq(word, listtocount):\n",
      "    assert type(listtocount) in (list, tuple)\n",
      "    if type(listtocount[0]) is not list:\n",
      "        countlist = [[w, 0] for w in listtocount]\n",
      "    elif type(listtocount[0]) is list:\n",
      "        countlist = listtocount\n",
      "    for thing in countlist:\n",
      "        if thing[0] in word:\n",
      "            thing[1] += 1\n",
      "    return countlist"
     ],
     "language": "python",
     "metadata": {},
     "outputs": [],
     "prompt_number": 28
    },
    {
     "cell_type": "code",
     "collapsed": false,
     "input": [
      "def countfromlist(wordgen, listtocount):\n",
      "    assert type(listtocount) in (list, tuple)\n",
      "    if type(listtocount[0]) is not list:\n",
      "        countlist = [[w, 0] for w in listtocount]\n",
      "    elif type(listtocount[0]) is list:\n",
      "        countlist = listtocount\n",
      "\n",
      "    for word in wordgen:\n",
      "        words = word.split()\n",
      "        for w in words:\n",
      "            for thing in countlist:\n",
      "                if thing[0] in w:\n",
      "                    thing[1] += 1\n",
      "    return countlist"
     ],
     "language": "python",
     "metadata": {},
     "outputs": [],
     "prompt_number": 29
    },
    {
     "cell_type": "code",
     "collapsed": false,
     "input": [
      "def countfromgenlist(genlist, listtocount):\n",
      "    countlist = listtocount\n",
      "    try:\n",
      "        gen = genlist.next()\n",
      "        gengen = genlist\n",
      "        countlist = countfromlist(gen, listtocount)\n",
      "        countfromgenlist(gengen, countlist)\n",
      "    \n",
      "    finally:\n",
      "        return countlist"
     ],
     "language": "python",
     "metadata": {},
     "outputs": [],
     "prompt_number": 30
    },
    {
     "cell_type": "code",
     "collapsed": false,
     "input": [
      "genlist = [fileword_gen(\"data/text/largetext/alltext.txt\"),\n",
      "           fileword_gen(\"data/text/largetext/warandpeace.txt\"),\n",
      "           fileword_gen(\"data/text/largetext/misctext.txt\"),\n",
      "           fileword_gen(\"data/text/largetext/trustingthewatercure.txt\"),\n",
      "           ]\n",
      "\n",
      "\n",
      "ggg = lambda :itertools.imap(fileword_gen, (''.join(['data/text/largetext/', file]) for file in os.listdir('data/text/largetext/') if file.endswith('.txt')))\n",
      "\n",
      "derp = ggg()\n",
      "\n",
      "\n",
      "fff = lambda :itertools.imap(fileline, (''.join(['data/text/largetext/', file]) for file in os.listdir('data/text/largetext/') if file.endswith('.txt')))\n",
      "\n",
      "gengen = (gen for gen in genlist)\n"
     ],
     "language": "python",
     "metadata": {},
     "outputs": [],
     "prompt_number": 31
    },
    {
     "cell_type": "code",
     "collapsed": false,
     "input": [
      "with Timer() as t:\n",
      "    totals = countfromgenlist(fff(), justconts)\n",
      "print t.interval\n",
      "totals"
     ],
     "language": "python",
     "metadata": {},
     "outputs": [
      {
       "output_type": "stream",
       "stream": "stdout",
       "text": [
        "0:00:09.362709\n"
       ]
      },
      {
       "metadata": {},
       "output_type": "pyout",
       "prompt_number": 32,
       "text": [
        "[[\"can't\", 412],\n",
        " [\"could've\", 2],\n",
        " [\"couldn't\", 303],\n",
        " [\"couldn't've\", 0],\n",
        " [\"didn't\", 933],\n",
        " [\"doesn't\", 195],\n",
        " [\"don't\", 1163],\n",
        " [\"hadn't\", 163],\n",
        " [\"hadn't've\", 0],\n",
        " [\"hasn't\", 26],\n",
        " [\"haven't\", 76],\n",
        " [\"he'd\", 630],\n",
        " [\"he'd've\", 0],\n",
        " [\"he'll\", 54],\n",
        " [\"he's\", 398],\n",
        " [\"how'd\", 0],\n",
        " [\"how'll\", 0],\n",
        " [\"how's\", 7],\n",
        " [\"I'd\", 224],\n",
        " [\"I'd've\", 0],\n",
        " [\"I'll\", 513],\n",
        " [\"I'm\", 1320],\n",
        " [\"I've\", 469],\n",
        " [\"isn't\", 105],\n",
        " [\"it'd\", 8],\n",
        " [\"it'd've\", 0],\n",
        " [\"it'll\", 22],\n",
        " [\"it's\", 586],\n",
        " [\"let's\", 40],\n",
        " [\"ma'am\", 38],\n",
        " [\"mightn't\", 0],\n",
        " [\"mightn't've\", 0],\n",
        " [\"might've\", 0],\n",
        " [\"mustn't\", 0],\n",
        " [\"must've\", 1],\n",
        " [\"needn't\", 2],\n",
        " [\"not've\", 0],\n",
        " [\"o'clock\", 41],\n",
        " [\"shan't\", 1],\n",
        " [\"she'd\", 179],\n",
        " [\"she'd've\", 0],\n",
        " [\"she'll\", 12],\n",
        " [\"she's\", 99],\n",
        " [\"should've\", 9],\n",
        " [\"shouldn't\", 43],\n",
        " [\"shouldn't've\", 0],\n",
        " [\"that'll\", 2],\n",
        " [\"that's\", 298],\n",
        " [\"there'd\", 14],\n",
        " [\"there'd've\", 0],\n",
        " [\"there're\", 7],\n",
        " [\"there's\", 192],\n",
        " [\"they'd\", 119],\n",
        " [\"they'd've\", 0],\n",
        " [\"they'll\", 47],\n",
        " [\"they're\", 111],\n",
        " [\"they've\", 42],\n",
        " [\"wasn't\", 428],\n",
        " [\"we'd\", 51],\n",
        " [\"we'd've\", 0],\n",
        " [\"we'll\", 89],\n",
        " [\"we're\", 187],\n",
        " [\"we've\", 110],\n",
        " [\"weren't\", 76],\n",
        " [\"what'll\", 0],\n",
        " [\"what're\", 0],\n",
        " [\"what's\", 115],\n",
        " [\"what've\", 0],\n",
        " [\"when's\", 0],\n",
        " [\"where'd\", 0],\n",
        " [\"where's\", 7],\n",
        " [\"where've\", 0],\n",
        " [\"who'd\", 26],\n",
        " [\"who'll\", 0],\n",
        " [\"who're\", 4],\n",
        " [\"who's\", 27],\n",
        " [\"who've\", 0],\n",
        " [\"why'll\", 0],\n",
        " [\"why're\", 0],\n",
        " [\"why's\", 2],\n",
        " [\"won't\", 207],\n",
        " [\"would've\", 19],\n",
        " [\"wouldn't\", 206],\n",
        " [\"wouldn't've\", 0],\n",
        " [\"y'all\", 1],\n",
        " [\"y'all'd've\", 0],\n",
        " [\"you'd\", 62],\n",
        " [\"you'd've\", 0],\n",
        " [\"you'll\", 88],\n",
        " [\"you're\", 309],\n",
        " [\"you've\", 106]]"
       ]
      }
     ],
     "prompt_number": 32
    },
    {
     "cell_type": "code",
     "collapsed": false,
     "input": [
      "d = {}\n",
      "for i in totals:\n",
      "    d[i[0]] = i[1]\n",
      "    "
     ],
     "language": "python",
     "metadata": {},
     "outputs": [],
     "prompt_number": 33
    },
    {
     "cell_type": "code",
     "collapsed": false,
     "input": [
      "#d"
     ],
     "language": "python",
     "metadata": {},
     "outputs": [
      {
       "metadata": {},
       "output_type": "pyout",
       "prompt_number": 40,
       "text": [
        "{\"I'd\": 2647,\n",
        " \"I'd've\": 1,\n",
        " \"I'll\": 2323,\n",
        " \"I'm\": 5954,\n",
        " \"I've\": 2001,\n",
        " \"can't\": 2544,\n",
        " \"could've\": 43,\n",
        " \"couldn't\": 2296,\n",
        " \"couldn't've\": 2,\n",
        " \"didn't\": 5650,\n",
        " \"doesn't\": 1264,\n",
        " \"don't\": 6568,\n",
        " \"hadn't\": 1085,\n",
        " \"hadn't've\": 1,\n",
        " \"hasn't\": 174,\n",
        " \"haven't\": 469,\n",
        " \"he'd\": 2494,\n",
        " \"he'd've\": 2,\n",
        " \"he'll\": 350,\n",
        " \"he's\": 2073,\n",
        " \"how'd\": 8,\n",
        " \"how'll\": 2,\n",
        " \"how's\": 53,\n",
        " \"isn't\": 894,\n",
        " \"it'd\": 43,\n",
        " \"it'd've\": 1,\n",
        " \"it'll\": 143,\n",
        " \"it's\": 3250,\n",
        " \"let's\": 338,\n",
        " \"ma'am\": 20,\n",
        " \"might've\": 6,\n",
        " \"mightn't\": 3,\n",
        " \"mightn't've\": 1,\n",
        " \"must've\": 21,\n",
        " \"mustn't\": 32,\n",
        " \"needn't\": 29,\n",
        " \"not've\": 1,\n",
        " \"o'clock\": 234,\n",
        " \"shan't\": 18,\n",
        " \"she'd\": 755,\n",
        " \"she'd've\": 1,\n",
        " \"she'll\": 88,\n",
        " \"she's\": 460,\n",
        " \"should've\": 42,\n",
        " \"shouldn't\": 324,\n",
        " \"shouldn't've\": 1,\n",
        " \"that'll\": 45,\n",
        " \"that's\": 1644,\n",
        " \"there'd\": 44,\n",
        " \"there'd've\": 1,\n",
        " \"there're\": 7,\n",
        " \"there's\": 871,\n",
        " \"they'd\": 473,\n",
        " \"they'd've\": 1,\n",
        " \"they'll\": 286,\n",
        " \"they're\": 795,\n",
        " \"they've\": 174,\n",
        " \"wasn't\": 2571,\n",
        " \"we'd\": 305,\n",
        " \"we'd've\": 2,\n",
        " \"we'll\": 511,\n",
        " \"we're\": 930,\n",
        " \"we've\": 316,\n",
        " \"weren't\": 534,\n",
        " \"what'll\": 10,\n",
        " \"what're\": 5,\n",
        " \"what's\": 611,\n",
        " \"what've\": 3,\n",
        " \"when's\": 11,\n",
        " \"where'd\": 7,\n",
        " \"where's\": 29,\n",
        " \"where've\": 1,\n",
        " \"who'd\": 179,\n",
        " \"who'll\": 12,\n",
        " \"who're\": 2,\n",
        " \"who's\": 151,\n",
        " \"who've\": 14,\n",
        " \"why'll\": 1,\n",
        " \"why're\": 1,\n",
        " \"why's\": 3,\n",
        " \"won't\": 1328,\n",
        " \"would've\": 82,\n",
        " \"wouldn't\": 1353,\n",
        " \"wouldn't've\": 1,\n",
        " \"y'all\": 9,\n",
        " \"y'all'd've\": 1,\n",
        " \"you'd\": 403,\n",
        " \"you'd've\": 1,\n",
        " \"you'll\": 751,\n",
        " \"you're\": 2158,\n",
        " \"you've\": 623}"
       ]
      }
     ],
     "prompt_number": 40
    },
    {
     "cell_type": "code",
     "collapsed": false,
     "input": [
      "sorted_x = reversed(sorted(d.items(), key=operator.itemgetter(1)))\n",
      "sortedgen = lambda : reversed(sorted(d.items(), key=operator.itemgetter(1)))"
     ],
     "language": "python",
     "metadata": {},
     "outputs": [
      {
       "ename": "NameError",
       "evalue": "name 'd' is not defined",
       "output_type": "pyerr",
       "traceback": [
        "\u001b[1;31m---------------------------------------------------------------------------\u001b[0m\n\u001b[1;31mNameError\u001b[0m                                 Traceback (most recent call last)",
        "\u001b[1;32m<ipython-input-21-f92baf50c88a>\u001b[0m in \u001b[0;36m<module>\u001b[1;34m()\u001b[0m\n\u001b[1;32m----> 1\u001b[1;33m \u001b[0msorted_x\u001b[0m \u001b[1;33m=\u001b[0m \u001b[0mreversed\u001b[0m\u001b[1;33m(\u001b[0m\u001b[0msorted\u001b[0m\u001b[1;33m(\u001b[0m\u001b[0md\u001b[0m\u001b[1;33m.\u001b[0m\u001b[0mitems\u001b[0m\u001b[1;33m(\u001b[0m\u001b[1;33m)\u001b[0m\u001b[1;33m,\u001b[0m \u001b[0mkey\u001b[0m\u001b[1;33m=\u001b[0m\u001b[0moperator\u001b[0m\u001b[1;33m.\u001b[0m\u001b[0mitemgetter\u001b[0m\u001b[1;33m(\u001b[0m\u001b[1;36m1\u001b[0m\u001b[1;33m)\u001b[0m\u001b[1;33m)\u001b[0m\u001b[1;33m)\u001b[0m\u001b[1;33m\u001b[0m\u001b[0m\n\u001b[0m\u001b[0;32m      2\u001b[0m \u001b[0msortedgen\u001b[0m \u001b[1;33m=\u001b[0m \u001b[1;32mlambda\u001b[0m \u001b[1;33m:\u001b[0m \u001b[0mreversed\u001b[0m\u001b[1;33m(\u001b[0m\u001b[0msorted\u001b[0m\u001b[1;33m(\u001b[0m\u001b[0md\u001b[0m\u001b[1;33m.\u001b[0m\u001b[0mitems\u001b[0m\u001b[1;33m(\u001b[0m\u001b[1;33m)\u001b[0m\u001b[1;33m,\u001b[0m \u001b[0mkey\u001b[0m\u001b[1;33m=\u001b[0m\u001b[0moperator\u001b[0m\u001b[1;33m.\u001b[0m\u001b[0mitemgetter\u001b[0m\u001b[1;33m(\u001b[0m\u001b[1;36m1\u001b[0m\u001b[1;33m)\u001b[0m\u001b[1;33m)\u001b[0m\u001b[1;33m)\u001b[0m\u001b[1;33m\u001b[0m\u001b[0m\n",
        "\u001b[1;31mNameError\u001b[0m: name 'd' is not defined"
       ]
      }
     ],
     "prompt_number": 21
    },
    {
     "cell_type": "code",
     "collapsed": false,
     "input": [
      "#for i in sortedgen():\n",
      "    #print i"
     ],
     "language": "python",
     "metadata": {},
     "outputs": [],
     "prompt_number": 8
    },
    {
     "cell_type": "code",
     "collapsed": false,
     "input": [
      "def checkifin_iter(item, iterlist):\n",
      "    for i in iterlist:\n",
      "        if i[0] == item:\n",
      "            return i[1] + ' --- !'\n",
      "    return item"
     ],
     "language": "python",
     "metadata": {},
     "outputs": [],
     "prompt_number": 34
    },
    {
     "cell_type": "code",
     "collapsed": false,
     "input": [
      "#for word in sortedgen():\n",
      "    #print str(checkifin_iter(word[0], contdatabase)) + ','"
     ],
     "language": "python",
     "metadata": {},
     "outputs": [],
     "prompt_number": 23
    },
    {
     "cell_type": "code",
     "collapsed": false,
     "input": [
      "#for word in fileword_gen(\"data/text/largetext/alltext.txt\"):\n",
      "    #print str(checkifin_iter(word, contdatabase)), '---', word"
     ],
     "language": "python",
     "metadata": {},
     "outputs": [],
     "prompt_number": 24
    },
    {
     "cell_type": "code",
     "collapsed": false,
     "input": [
      "#for word in fileword_gen(\"data/text/largetext/alltext.txt\"):\n",
      "    #print word"
     ],
     "language": "python",
     "metadata": {},
     "outputs": [],
     "prompt_number": 25
    },
    {
     "cell_type": "code",
     "collapsed": false,
     "input": [],
     "language": "python",
     "metadata": {},
     "outputs": [],
     "prompt_number": 25
    },
    {
     "cell_type": "markdown",
     "metadata": {},
     "source": [
      "# Multicore Contraction Count"
     ]
    },
    {
     "cell_type": "code",
     "collapsed": false,
     "input": [],
     "language": "python",
     "metadata": {},
     "outputs": [],
     "prompt_number": 32
    },
    {
     "cell_type": "code",
     "collapsed": false,
     "input": [
      "contgen = lambda:(line.split('\\t')[0] for line in fileline_gen('data/contractions.txt'))\n",
      "contlist = [line.split('\\t') for line in fileline_gen('data/contractions.txt')]"
     ],
     "language": "python",
     "metadata": {},
     "outputs": [],
     "prompt_number": 35
    },
    {
     "cell_type": "code",
     "collapsed": false,
     "input": [
      "gen1 = contgen()\n",
      "gen2 = contgen()"
     ],
     "language": "python",
     "metadata": {},
     "outputs": [],
     "prompt_number": 36
    },
    {
     "cell_type": "code",
     "collapsed": false,
     "input": [],
     "language": "python",
     "metadata": {},
     "outputs": [],
     "prompt_number": 36
    },
    {
     "cell_type": "code",
     "collapsed": false,
     "input": [
      "wordlist = [line for line in fileword_gen('data/contractions.txt')]"
     ],
     "language": "python",
     "metadata": {},
     "outputs": [],
     "prompt_number": 37
    },
    {
     "cell_type": "code",
     "collapsed": false,
     "input": [],
     "language": "python",
     "metadata": {},
     "outputs": [],
     "prompt_number": 37
    },
    {
     "cell_type": "code",
     "collapsed": false,
     "input": [
      "gencont_factory = lambda:islice(wordlist, 0, len(wordlist), 1)\n"
     ],
     "language": "python",
     "metadata": {},
     "outputs": [],
     "prompt_number": 38
    },
    {
     "cell_type": "code",
     "collapsed": false,
     "input": [
      "gencont = gencont_factory()"
     ],
     "language": "python",
     "metadata": {},
     "outputs": [],
     "prompt_number": 39
    },
    {
     "cell_type": "code",
     "collapsed": false,
     "input": [
      "gencont.next()"
     ],
     "language": "python",
     "metadata": {},
     "outputs": [
      {
       "metadata": {},
       "output_type": "pyout",
       "prompt_number": 40,
       "text": [
        "\"can't\""
       ]
      }
     ],
     "prompt_number": 40
    },
    {
     "cell_type": "code",
     "collapsed": false,
     "input": [
      "testl = []\n",
      "for i in xrange(21):\n",
      "    testl.append(i)"
     ],
     "language": "python",
     "metadata": {},
     "outputs": [],
     "prompt_number": 41
    },
    {
     "cell_type": "code",
     "collapsed": false,
     "input": [
      "testl"
     ],
     "language": "python",
     "metadata": {},
     "outputs": [
      {
       "metadata": {},
       "output_type": "pyout",
       "prompt_number": 42,
       "text": [
        "[0, 1, 2, 3, 4, 5, 6, 7, 8, 9, 10, 11, 12, 13, 14, 15, 16, 17, 18, 19, 20]"
       ]
      }
     ],
     "prompt_number": 42
    },
    {
     "cell_type": "code",
     "collapsed": false,
     "input": [
      "testl[0:10]"
     ],
     "language": "python",
     "metadata": {},
     "outputs": [
      {
       "metadata": {},
       "output_type": "pyout",
       "prompt_number": 43,
       "text": [
        "[0, 1, 2, 3, 4, 5, 6, 7, 8, 9]"
       ]
      }
     ],
     "prompt_number": 43
    },
    {
     "cell_type": "code",
     "collapsed": false,
     "input": [],
     "language": "python",
     "metadata": {},
     "outputs": [],
     "prompt_number": 43
    },
    {
     "cell_type": "code",
     "collapsed": false,
     "input": [],
     "language": "python",
     "metadata": {},
     "outputs": [],
     "prompt_number": 43
    },
    {
     "cell_type": "code",
     "collapsed": false,
     "input": [
      "filelist = [''.join(['data/text/testbatch/', file]) for file in os.listdir('data/text/testbatch/') if file.endswith('.txt')]"
     ],
     "language": "python",
     "metadata": {},
     "outputs": [],
     "prompt_number": 44
    },
    {
     "cell_type": "code",
     "collapsed": false,
     "input": [
      "len(filelist)"
     ],
     "language": "python",
     "metadata": {},
     "outputs": [
      {
       "metadata": {},
       "output_type": "pyout",
       "prompt_number": 45,
       "text": [
        "5"
       ]
      }
     ],
     "prompt_number": 45
    },
    {
     "cell_type": "code",
     "collapsed": false,
     "input": [
      "numberoffiles = len(filelist)\n",
      "cores = 4\n",
      "filespercore = numberoffiles / cores\n",
      "[filespercore, filespercore*cores]"
     ],
     "language": "python",
     "metadata": {},
     "outputs": [
      {
       "metadata": {},
       "output_type": "pyout",
       "prompt_number": 46,
       "text": [
        "[1, 4]"
       ]
      }
     ],
     "prompt_number": 46
    },
    {
     "cell_type": "code",
     "collapsed": false,
     "input": [
      "def formbatches(listof, batches):\n",
      "    numberof = len(listof)\n",
      "    batches = 4\n",
      "    perbatch = numberof / batches\n",
      "    offset = numberof - perbatch*batches\n",
      "    start = 0\n",
      "    end = perbatch + 1\n",
      "    batches = []\n",
      "    for core in xrange(cores):\n",
      "        batches.append(listof[start:end])\n",
      "        start = end\n",
      "        end += perbatch\n",
      "    return batches\n",
      "    "
     ],
     "language": "python",
     "metadata": {},
     "outputs": [],
     "prompt_number": 47
    },
    {
     "cell_type": "code",
     "collapsed": false,
     "input": [
      "filebatches = formbatches(filelist, cores)\n",
      "len(filebatches)"
     ],
     "language": "python",
     "metadata": {},
     "outputs": [
      {
       "metadata": {},
       "output_type": "pyout",
       "prompt_number": 48,
       "text": [
        "4"
       ]
      }
     ],
     "prompt_number": 48
    },
    {
     "cell_type": "code",
     "collapsed": false,
     "input": [
      "l1 = len(filebatches[0])\n",
      "l2 = len(filebatches[1])\n",
      "l3 = len(filebatches[2])\n",
      "l4 = len(filebatches[3])\n",
      "print l1, l2, l3, l4\n",
      "print l1 + l2 + l3 + l4"
     ],
     "language": "python",
     "metadata": {},
     "outputs": [
      {
       "output_type": "stream",
       "stream": "stdout",
       "text": [
        "2 1 1 1\n",
        "5\n"
       ]
      }
     ],
     "prompt_number": 49
    },
    {
     "cell_type": "code",
     "collapsed": false,
     "input": [
      "filegen_factory = lambda filelist: itertools.imap(fileline, filelist)\n",
      "filebatch_gen = lambda filebatches: map(filegen_factory, filebatches)"
     ],
     "language": "python",
     "metadata": {},
     "outputs": [],
     "prompt_number": 50
    },
    {
     "cell_type": "code",
     "collapsed": false,
     "input": [
      "#with Timer() as t:\n",
      "#    totals = countfromgenlist(fff(), justconts)\n",
      "#print t.interval\n",
      "#totals"
     ],
     "language": "python",
     "metadata": {},
     "outputs": [],
     "prompt_number": 51
    },
    {
     "cell_type": "code",
     "collapsed": false,
     "input": [
      "hyh = filebatch_gen(filebatches)"
     ],
     "language": "python",
     "metadata": {},
     "outputs": [],
     "prompt_number": 52
    },
    {
     "cell_type": "code",
     "collapsed": false,
     "input": [
      "def countfromgenlist_parallel(filegens):\n",
      "    return countfromgenlist(filegens, justconts)"
     ],
     "language": "python",
     "metadata": {},
     "outputs": [],
     "prompt_number": 53
    },
    {
     "cell_type": "code",
     "collapsed": false,
     "input": [
      "def derpderp(derp):\n",
      "    return derp"
     ],
     "language": "python",
     "metadata": {},
     "outputs": [],
     "prompt_number": 54
    },
    {
     "cell_type": "code",
     "collapsed": false,
     "input": [
      "def contsinparallel(filebatch_list):\n",
      "    pool = Pool(processes=cores)\n",
      "    results = pool.map(countfromgenlist_parallel, tuple(filebatch_list))\n",
      "    product = results\n",
      "    return product"
     ],
     "language": "python",
     "metadata": {},
     "outputs": [],
     "prompt_number": 63
    },
    {
     "cell_type": "code",
     "collapsed": false,
     "input": [
      "with Timer() as t:\n",
      "    listofresults = contsinparallel(filebatch_gen(filebatches))\n",
      "print t.interval"
     ],
     "language": "python",
     "metadata": {},
     "outputs": []
    },
    {
     "cell_type": "code",
     "collapsed": false,
     "input": [
      "print listofresults"
     ],
     "language": "python",
     "metadata": {},
     "outputs": [
      {
       "ename": "NameError",
       "evalue": "name 'listofresults' is not defined",
       "output_type": "pyerr",
       "traceback": [
        "\u001b[1;31m---------------------------------------------------------------------------\u001b[0m\n\u001b[1;31mNameError\u001b[0m                                 Traceback (most recent call last)",
        "\u001b[1;32m<ipython-input-56-e36a0ddef61e>\u001b[0m in \u001b[0;36m<module>\u001b[1;34m()\u001b[0m\n\u001b[1;32m----> 1\u001b[1;33m \u001b[1;32mprint\u001b[0m \u001b[0mlistofresults\u001b[0m\u001b[1;33m\u001b[0m\u001b[0m\n\u001b[0m",
        "\u001b[1;31mNameError\u001b[0m: name 'listofresults' is not defined"
       ]
      }
     ],
     "prompt_number": 56
    },
    {
     "cell_type": "code",
     "collapsed": false,
     "input": [
      "countfromgenlist_parallel(filebatch_gen(filebatches)[0])"
     ],
     "language": "python",
     "metadata": {},
     "outputs": [
      {
       "metadata": {},
       "output_type": "pyout",
       "prompt_number": 57,
       "text": [
        "[[\"can't\", 5],\n",
        " [\"could've\", 1],\n",
        " [\"couldn't\", 19],\n",
        " [\"couldn't've\", 0],\n",
        " [\"didn't\", 43],\n",
        " [\"doesn't\", 1],\n",
        " [\"don't\", 35],\n",
        " [\"hadn't\", 6],\n",
        " [\"hadn't've\", 0],\n",
        " [\"hasn't\", 1],\n",
        " [\"haven't\", 4],\n",
        " [\"he'd\", 23],\n",
        " [\"he'd've\", 0],\n",
        " [\"he'll\", 2],\n",
        " [\"he's\", 5],\n",
        " [\"how'd\", 0],\n",
        " [\"how'll\", 0],\n",
        " [\"how's\", 0],\n",
        " [\"I'd\", 83],\n",
        " [\"I'd've\", 0],\n",
        " [\"I'll\", 23],\n",
        " [\"I'm\", 35],\n",
        " [\"I've\", 9],\n",
        " [\"isn't\", 4],\n",
        " [\"it'd\", 0],\n",
        " [\"it'd've\", 0],\n",
        " [\"it'll\", 0],\n",
        " [\"it's\", 15],\n",
        " [\"let's\", 3],\n",
        " [\"ma'am\", 1],\n",
        " [\"mightn't\", 0],\n",
        " [\"mightn't've\", 0],\n",
        " [\"might've\", 0],\n",
        " [\"mustn't\", 0],\n",
        " [\"must've\", 2],\n",
        " [\"needn't\", 0],\n",
        " [\"not've\", 0],\n",
        " [\"o'clock\", 0],\n",
        " [\"shan't\", 0],\n",
        " [\"she'd\", 3],\n",
        " [\"she'd've\", 0],\n",
        " [\"she'll\", 0],\n",
        " [\"she's\", 1],\n",
        " [\"should've\", 1],\n",
        " [\"shouldn't\", 0],\n",
        " [\"shouldn't've\", 0],\n",
        " [\"that'll\", 0],\n",
        " [\"that's\", 5],\n",
        " [\"there'd\", 0],\n",
        " [\"there'd've\", 0],\n",
        " [\"there're\", 0],\n",
        " [\"there's\", 3],\n",
        " [\"they'd\", 6],\n",
        " [\"they'd've\", 0],\n",
        " [\"they'll\", 0],\n",
        " [\"they're\", 2],\n",
        " [\"they've\", 0],\n",
        " [\"wasn't\", 20],\n",
        " [\"we'd\", 12],\n",
        " [\"we'd've\", 0],\n",
        " [\"we'll\", 3],\n",
        " [\"we're\", 2],\n",
        " [\"we've\", 0],\n",
        " [\"weren't\", 0],\n",
        " [\"what'll\", 0],\n",
        " [\"what're\", 0],\n",
        " [\"what's\", 3],\n",
        " [\"what've\", 0],\n",
        " [\"when's\", 0],\n",
        " [\"where'd\", 0],\n",
        " [\"where's\", 0],\n",
        " [\"where've\", 0],\n",
        " [\"who'd\", 3],\n",
        " [\"who'll\", 1],\n",
        " [\"who're\", 0],\n",
        " [\"who's\", 2],\n",
        " [\"who've\", 0],\n",
        " [\"why'll\", 0],\n",
        " [\"why're\", 0],\n",
        " [\"why's\", 0],\n",
        " [\"won't\", 13],\n",
        " [\"would've\", 4],\n",
        " [\"wouldn't\", 7],\n",
        " [\"wouldn't've\", 0],\n",
        " [\"y'all\", 0],\n",
        " [\"y'all'd've\", 0],\n",
        " [\"you'd\", 11],\n",
        " [\"you'd've\", 0],\n",
        " [\"you'll\", 7],\n",
        " [\"you're\", 12],\n",
        " [\"you've\", 4]]"
       ]
      }
     ],
     "prompt_number": 57
    },
    {
     "cell_type": "code",
     "collapsed": false,
     "input": [
      "filebatch_gen(filebatches)[0]"
     ],
     "language": "python",
     "metadata": {},
     "outputs": [
      {
       "metadata": {},
       "output_type": "pyout",
       "prompt_number": 64,
       "text": [
        "<itertools.imap at 0x7f0632adf350>"
       ]
      }
     ],
     "prompt_number": 64
    },
    {
     "cell_type": "code",
     "collapsed": false,
     "input": [
      "print tuple(filebatch_gen(filebatches))"
     ],
     "language": "python",
     "metadata": {},
     "outputs": [
      {
       "output_type": "stream",
       "stream": "stdout",
       "text": [
        "(<itertools.imap object at 0x7f0632adfa50>, <itertools.imap object at 0x7f0632adf510>, <itertools.imap object at 0x7f0632adf850>, <itertools.imap object at 0x7f0632adf7d0>)\n"
       ]
      }
     ],
     "prompt_number": 65
    },
    {
     "cell_type": "code",
     "collapsed": false,
     "input": [
      "map(countfromgenlist_parallel, filebatch_gen(filebatches))"
     ],
     "language": "python",
     "metadata": {},
     "outputs": []
    },
    {
     "cell_type": "code",
     "collapsed": false,
     "input": [],
     "language": "python",
     "metadata": {},
     "outputs": []
    }
   ],
   "metadata": {}
  }
 ]
}