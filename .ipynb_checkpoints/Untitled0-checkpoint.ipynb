{
 "metadata": {
  "name": "",
  "signature": "sha256:2da7e439666743760be40c0efd9d451e57271708e07fff198dd2b43d4047b6fc"
 },
 "nbformat": 3,
 "nbformat_minor": 0,
 "worksheets": [
  {
   "cells": [
    {
     "cell_type": "code",
     "collapsed": false,
     "input": [
      "from data.text import samples as sam\n",
      "\n",
      "from textblob import TextBlob as textb\n",
      "import nltk"
     ],
     "language": "python",
     "metadata": {},
     "outputs": [],
     "prompt_number": 1
    },
    {
     "cell_type": "code",
     "collapsed": false,
     "input": [
      "print sam.acidtest"
     ],
     "language": "python",
     "metadata": {},
     "outputs": [
      {
       "output_type": "stream",
       "stream": "stdout",
       "text": [
        "Can you talk piglatin to piglatin.\n",
        "\n"
       ]
      }
     ],
     "prompt_number": 2
    },
    {
     "cell_type": "code",
     "collapsed": false,
     "input": [],
     "language": "python",
     "metadata": {},
     "outputs": [],
     "prompt_number": 47
    },
    {
     "cell_type": "code",
     "collapsed": false,
     "input": [
      "text = sam.paragraphs_og"
     ],
     "language": "python",
     "metadata": {},
     "outputs": [],
     "prompt_number": 14
    },
    {
     "cell_type": "code",
     "collapsed": false,
     "input": [
      "tokens = nltk.word_tokenize(text)"
     ],
     "language": "python",
     "metadata": {},
     "outputs": [],
     "prompt_number": 48
    },
    {
     "cell_type": "code",
     "collapsed": false,
     "input": [
      "print tokens"
     ],
     "language": "python",
     "metadata": {},
     "outputs": [
      {
       "output_type": "stream",
       "stream": "stdout",
       "text": [
        "['For', 'many', 'people', '(', 'myself', 'among', 'them', ')', ',', 'the', 'Python', 'language', 'is', 'easy', 'to', 'fall', 'in', 'love', 'with', '.', 'Since', 'its', 'first', 'appearance', 'in', '1991', ',', 'Python', 'has', 'become', 'one', 'of', 'the', 'most', 'popular', 'dynamic', ',', 'programming', 'languages', ',', 'along', 'with', 'Perl', ',', 'Ruby', ',', 'and', 'others', '.', 'Python', 'and', 'Ruby', 'have', 'become', 'especially', 'popular', 'in', 'recent', 'years', 'for', 'building', 'websites', 'using', 'their', 'numerous', 'web', 'frameworks', ',', 'like', 'Rails', '(', 'Ruby', ')', 'and', 'Django', '(', 'Python', ')', '.', 'Such', 'languages', 'are', 'often', 'called', 'scripting', 'languages', 'as', 'they', 'can', 'be', 'used', 'to', 'write', 'quick-and-dirty', 'small', 'programs', ',', 'or', 'scripts', '.', 'I', 'don\\xe2\\x80\\x99t', 'like', 'the', 'term', '\\xe2\\x80\\x9cscripting', 'language\\xe2\\x80\\x9d', 'as', 'it', 'carries', 'a', 'connotation', 'that', 'they', 'can', 'not', 'be', 'used', 'for', 'building', 'mission-critical', 'software', '.', 'Among', 'interpreted', 'languages', 'Python', 'is', 'distinguished', 'by', 'its', 'large', 'and', 'active', 'scientific', 'computing', 'community', '.', 'Adop-', 'tion', 'of', 'Python', 'for', 'scientific', 'computing', 'in', 'both', 'industry', 'applications', 'and', 'academic', 'research', 'has', 'increased', 'significantly', 'since', 'the', 'early', '2000s', '.', 'For', 'data', 'analysis', 'and', 'interactive', ',', 'exploratory', 'computing', 'and', 'data', 'visualization', ',', 'Python', 'will', 'inevitably', 'draw', 'comparisons', 'with', 'the', 'many', 'other', 'domain-specific', 'open', 'source', 'and', 'commercial', 'programming', 'languages', 'and', 'tools', 'in', 'wide', 'use', ',', 'such', 'as', 'R', ',', 'MATLAB', ',', 'SAS', ',', 'Stata', ',', 'and', 'others', '.', 'In', 'recent', 'years', ',', 'Python\\xe2\\x80\\x99s', 'improved', 'library', 'support', '(', 'primarily', 'pandas', ')', 'has', 'made', 'it', 'a', 'strong', 'alternative', 'for', 'data', 'manipulation', 'tasks', '.', 'Combined', 'with', 'Python\\xe2\\x80\\x99s', 'strength', 'in', 'general', 'purpose', 'programming', ',', 'it', 'is', 'an', 'excellent', 'choice', 'as', 'a', 'single', 'language', 'for', 'building', 'data-centric', 'applications', '.']\n"
       ]
      }
     ],
     "prompt_number": 49
    },
    {
     "cell_type": "code",
     "collapsed": false,
     "input": [
      "print ' '.join(tokens)"
     ],
     "language": "python",
     "metadata": {},
     "outputs": [
      {
       "output_type": "stream",
       "stream": "stdout",
       "text": [
        "For many people ( myself among them ) , the Python language is easy to fall in love with . Since its first appearance in 1991 , Python has become one of the most popular dynamic , programming languages , along with Perl , Ruby , and others . Python and Ruby have become especially popular in recent years for building websites using their numerous web frameworks , like Rails ( Ruby ) and Django ( Python ) . Such languages are often called scripting languages as they can be used to write quick-and-dirty small programs , or scripts . I don\u2019t like the term \u201cscripting language\u201d as it carries a connotation that they can not be used for building mission-critical software . Among interpreted languages Python is distinguished by its large and active scientific computing community . Adop- tion of Python for scientific computing in both industry applications and academic research has increased significantly since the early 2000s . For data analysis and interactive , exploratory computing and data visualization , Python will inevitably draw comparisons with the many other domain-specific open source and commercial programming languages and tools in wide use , such as R , MATLAB , SAS , Stata , and others . In recent years , Python\u2019s improved library support ( primarily pandas ) has made it a strong alternative for data manipulation tasks . Combined with Python\u2019s strength in general purpose programming , it is an excellent choice as a single language for building data-centric applications .\n"
       ]
      }
     ],
     "prompt_number": 53
    },
    {
     "cell_type": "code",
     "collapsed": false,
     "input": [
      "nltk.download()"
     ],
     "language": "python",
     "metadata": {},
     "outputs": [
      {
       "output_type": "stream",
       "stream": "stdout",
       "text": [
        "showing info http://nltk.github.com/nltk_data/\n"
       ]
      },
      {
       "metadata": {},
       "output_type": "pyout",
       "prompt_number": 56,
       "text": [
        "True"
       ]
      }
     ],
     "prompt_number": 56
    },
    {
     "cell_type": "code",
     "collapsed": false,
     "input": [
      "sentences = nltk.data.load('grammars/large_grammars/atis_sentences.txt')\n",
      "sentences = nltk.parse.util.extract_test_sentences(sentences)"
     ],
     "language": "python",
     "metadata": {},
     "outputs": [],
     "prompt_number": 57
    },
    {
     "cell_type": "code",
     "collapsed": false,
     "input": [
      "len(sentences)"
     ],
     "language": "python",
     "metadata": {},
     "outputs": [
      {
       "metadata": {},
       "output_type": "pyout",
       "prompt_number": 58,
       "text": [
        "98"
       ]
      }
     ],
     "prompt_number": 58
    },
    {
     "cell_type": "code",
     "collapsed": false,
     "input": [
      "print sentences[12]"
     ],
     "language": "python",
     "metadata": {},
     "outputs": [
      {
       "output_type": "stream",
       "stream": "stdout",
       "text": [
        "([u'show', u'me', u'flights', u'from', u'detroit', u'to', u'san', u'diego', u'on', u'tuesday', u'may', u'third', u'.'], 0)\n"
       ]
      }
     ],
     "prompt_number": 59
    },
    {
     "cell_type": "code",
     "collapsed": false,
     "input": [],
     "language": "python",
     "metadata": {},
     "outputs": [],
     "prompt_number": 60
    },
    {
     "cell_type": "code",
     "collapsed": false,
     "input": [],
     "language": "python",
     "metadata": {},
     "outputs": []
    }
   ],
   "metadata": {}
  }
 ]
}