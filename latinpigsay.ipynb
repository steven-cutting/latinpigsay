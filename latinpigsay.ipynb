{
 "metadata": {
  "name": "",
  "signature": "sha256:aaa085104496d74113f3e1a69c38b1eb5724a42c2bffc431e596719c02d83793"
 },
 "nbformat": 3,
 "nbformat_minor": 0,
 "worksheets": [
  {
   "cells": [
    {
     "cell_type": "code",
     "collapsed": false,
     "input": [
      "from data.text import samples as sam\n",
      "\n",
      "from textblob import TextBlob as textb\n",
      "import nltk\n",
      "\n",
      "import re"
     ],
     "language": "python",
     "metadata": {},
     "outputs": [],
     "prompt_number": 26
    },
    {
     "cell_type": "code",
     "collapsed": false,
     "input": [
      "print sam.acidtest"
     ],
     "language": "python",
     "metadata": {},
     "outputs": [
      {
       "output_type": "stream",
       "stream": "stdout",
       "text": [
        "Can you talk piglatin to piglatin.\n",
        "\n"
       ]
      }
     ],
     "prompt_number": 27
    },
    {
     "cell_type": "code",
     "collapsed": false,
     "input": [],
     "language": "python",
     "metadata": {},
     "outputs": [],
     "prompt_number": 3
    },
    {
     "cell_type": "code",
     "collapsed": false,
     "input": [
      "text = sam.paragraphs_og"
     ],
     "language": "python",
     "metadata": {},
     "outputs": [],
     "prompt_number": 4
    },
    {
     "cell_type": "code",
     "collapsed": false,
     "input": [
      "tokens = nltk.word_tokenize(text)"
     ],
     "language": "python",
     "metadata": {},
     "outputs": [],
     "prompt_number": 5
    },
    {
     "cell_type": "code",
     "collapsed": false,
     "input": [
      "print tokens"
     ],
     "language": "python",
     "metadata": {},
     "outputs": [
      {
       "output_type": "stream",
       "stream": "stdout",
       "text": [
        "['For', 'many', 'people', '(', 'myself', 'among', 'them', ')', ',', 'the', 'Python', 'language', 'is', 'easy', 'to', 'fall', 'in', 'love', 'with', '.', 'Since', 'its', 'first', 'appearance', 'in', '1991', ',', 'Python', 'has', 'become', 'one', 'of', 'the', 'most', 'popular', 'dynamic', ',', 'programming', 'languages', ',', 'along', 'with', 'Perl', ',', 'Ruby', ',', 'and', 'others', '.', 'Python', 'and', 'Ruby', 'have', 'become', 'especially', 'popular', 'in', 'recent', 'years', 'for', 'building', 'websites', 'using', 'their', 'numerous', 'web', 'frameworks', ',', 'like', 'Rails', '(', 'Ruby', ')', 'and', 'Django', '(', 'Python', ')', '.', 'Such', 'languages', 'are', 'often', 'called', 'scripting', 'languages', 'as', 'they', 'can', 'be', 'used', 'to', 'write', 'quick-and-dirty', 'small', 'programs', ',', 'or', 'scripts', '.', 'I', 'don\\xe2\\x80\\x99t', 'like', 'the', 'term', '\\xe2\\x80\\x9cscripting', 'language\\xe2\\x80\\x9d', 'as', 'it', 'carries', 'a', 'connotation', 'that', 'they', 'can', 'not', 'be', 'used', 'for', 'building', 'mission-critical', 'software', '.', 'Among', 'interpreted', 'languages', 'Python', 'is', 'distinguished', 'by', 'its', 'large', 'and', 'active', 'scientific', 'computing', 'community', '.', 'Adop-', 'tion', 'of', 'Python', 'for', 'scientific', 'computing', 'in', 'both', 'industry', 'applications', 'and', 'academic', 'research', 'has', 'increased', 'significantly', 'since', 'the', 'early', '2000s', '.', 'For', 'data', 'analysis', 'and', 'interactive', ',', 'exploratory', 'computing', 'and', 'data', 'visualization', ',', 'Python', 'will', 'inevitably', 'draw', 'comparisons', 'with', 'the', 'many', 'other', 'domain-specific', 'open', 'source', 'and', 'commercial', 'programming', 'languages', 'and', 'tools', 'in', 'wide', 'use', ',', 'such', 'as', 'R', ',', 'MATLAB', ',', 'SAS', ',', 'Stata', ',', 'and', 'others', '.', 'In', 'recent', 'years', ',', 'Python\\xe2\\x80\\x99s', 'improved', 'library', 'support', '(', 'primarily', 'pandas', ')', 'has', 'made', 'it', 'a', 'strong', 'alternative', 'for', 'data', 'manipulation', 'tasks', '.', 'Combined', 'with', 'Python\\xe2\\x80\\x99s', 'strength', 'in', 'general', 'purpose', 'programming', ',', 'it', 'is', 'an', 'excellent', 'choice', 'as', 'a', 'single', 'language', 'for', 'building', 'data-centric', 'applications', '.']\n"
       ]
      }
     ],
     "prompt_number": 6
    },
    {
     "cell_type": "code",
     "collapsed": false,
     "input": [
      "print ' '.join(tokens)"
     ],
     "language": "python",
     "metadata": {},
     "outputs": [
      {
       "output_type": "stream",
       "stream": "stdout",
       "text": [
        "For many people ( myself among them ) , the Python language is easy to fall in love with . Since its first appearance in 1991 , Python has become one of the most popular dynamic , programming languages , along with Perl , Ruby , and others . Python and Ruby have become especially popular in recent years for building websites using their numerous web frameworks , like Rails ( Ruby ) and Django ( Python ) . Such languages are often called scripting languages as they can be used to write quick-and-dirty small programs , or scripts . I don\u2019t like the term \u201cscripting language\u201d as it carries a connotation that they can not be used for building mission-critical software . Among interpreted languages Python is distinguished by its large and active scientific computing community . Adop- tion of Python for scientific computing in both industry applications and academic research has increased significantly since the early 2000s . For data analysis and interactive , exploratory computing and data visualization , Python will inevitably draw comparisons with the many other domain-specific open source and commercial programming languages and tools in wide use , such as R , MATLAB , SAS , Stata , and others . In recent years , Python\u2019s improved library support ( primarily pandas ) has made it a strong alternative for data manipulation tasks . Combined with Python\u2019s strength in general purpose programming , it is an excellent choice as a single language for building data-centric applications .\n"
       ]
      }
     ],
     "prompt_number": 7
    },
    {
     "cell_type": "code",
     "collapsed": false,
     "input": [
      "sentences = nltk.data.load('grammars/large_grammars/atis_sentences.txt')\n",
      "sentences = nltk.parse.util.extract_test_sentences(sentences)"
     ],
     "language": "python",
     "metadata": {},
     "outputs": [],
     "prompt_number": 17
    },
    {
     "cell_type": "code",
     "collapsed": false,
     "input": [
      "len(sentences)"
     ],
     "language": "python",
     "metadata": {},
     "outputs": [
      {
       "metadata": {},
       "output_type": "pyout",
       "prompt_number": 18,
       "text": [
        "98"
       ]
      }
     ],
     "prompt_number": 18
    },
    {
     "cell_type": "code",
     "collapsed": false,
     "input": [
      "print sentences[12]"
     ],
     "language": "python",
     "metadata": {},
     "outputs": [
      {
       "output_type": "stream",
       "stream": "stdout",
       "text": [
        "([u'show', u'me', u'flights', u'from', u'detroit', u'to', u'san', u'diego', u'on', u'tuesday', u'may', u'third', u'.'], 0)\n"
       ]
      }
     ],
     "prompt_number": 19
    },
    {
     "cell_type": "code",
     "collapsed": false,
     "input": [
      "class regexpreplacer(object):\n",
      "    def __init__(self, patterns):\n",
      "        self.patterns = [(re.compile(regex), repl) for (regex, repl) in\n",
      "                         patterns]\n",
      "    def replace(self, text):\n",
      "        s = text\n",
      "        for (pattern, repl) in self.patterns:\n",
      "            (s, count) = re.subn(pattern, repl, s)\n",
      "        return s\n"
     ],
     "language": "python",
     "metadata": {},
     "outputs": [],
     "prompt_number": 28
    },
    {
     "cell_type": "code",
     "collapsed": false,
     "input": [
      "contractions = [(r'won\\'t', 'will not'),\n",
      "                (r'can\\'t', 'cannot'),\n",
      "                (r'i\\'m', 'i am'),\n",
      "                (r'ain\\'t', 'is not'),\n",
      "                (r'(\\w+)\\'ll', '\\g<1> will'),\n",
      "                (r'(\\w+)n\\'t', '\\g<1> not'),\n",
      "                (r'(\\w+)\\'ve', '\\g<1> have'),\n",
      "                (r'(\\w+)\\'s', '\\g<1> is'),\n",
      "                (r'(\\w+)\\'re', '\\g<1> are'),\n",
      "                (r'(\\w+)\\'d', '\\g<1> would'),\n",
      "                ]\n",
      "expander = regexpreplacer(contractions)"
     ],
     "language": "python",
     "metadata": {},
     "outputs": [],
     "prompt_number": 29
    },
    {
     "cell_type": "code",
     "collapsed": false,
     "input": [
      "files = {1 : {'file1' : 'data/text/phrases_english.txt',\n",
      "              'file2' : 'data/text/phrases_piglatin.txt',\n",
      "             },\n",
      "         2 : {'file1' : 'data/text/contractions.txt',\n",
      "              'file2' : 'data/text/contractions-un.txt'\n",
      "             },\n",
      "        }\n",
      "print files[1]['file1']"
     ],
     "language": "python",
     "metadata": {},
     "outputs": [
      {
       "output_type": "stream",
       "stream": "stdout",
       "text": [
        "data/text/phrases_english.txt\n"
       ]
      }
     ],
     "prompt_number": 32
    },
    {
     "cell_type": "code",
     "collapsed": false,
     "input": [],
     "language": "python",
     "metadata": {},
     "outputs": [],
     "prompt_number": 32
    },
    {
     "cell_type": "code",
     "collapsed": false,
     "input": [],
     "language": "python",
     "metadata": {},
     "outputs": []
    }
   ],
   "metadata": {}
  }
 ]
}